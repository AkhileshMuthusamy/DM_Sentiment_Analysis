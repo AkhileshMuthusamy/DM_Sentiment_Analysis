{
 "cells": [
  {
   "cell_type": "markdown",
   "metadata": {},
   "source": []
  },
  {
   "cell_type": "code",
   "execution_count": 1,
   "metadata": {},
   "outputs": [],
   "source": [
    "import pandas as pd\r\n",
    "import numpy as np\r\n",
    "import seaborn as sns\r\n",
    "import sklearn\r\n",
    "import os\r\n",
    "import xml.etree.ElementTree as ET\r\n",
    "%matplotlib inline"
   ]
  },
  {
   "cell_type": "code",
   "execution_count": 2,
   "metadata": {},
   "outputs": [
    {
     "name": "stdout",
     "output_type": "stream",
     "text": [
      "<review>\n",
      "\n",
      "<unique_id>\n",
      "\n",
      "0785758968:one_of_the_best_crichton_novels:joseph_m\n",
      "\n",
      "</unique_id>\n",
      "\n",
      "<asin>\n",
      "\n",
      "0785758968\n",
      "\n",
      "</asin>\n",
      "\n",
      "<product_name>\n",
      "\n",
      "Sphere: Books: Michael Crichton\n",
      "\n",
      "</product_name>\n",
      "\n",
      "<product_type>\n",
      "\n",
      "books\n",
      "\n",
      "</product_type>\n",
      "\n",
      "<helpful>\n",
      "\n",
      "0 of 1\n",
      "\n",
      "</helpful>\n",
      "\n",
      "<rating>\n",
      "\n",
      "5.0\n",
      "\n",
      "</rating>\n",
      "\n",
      "<title>\n",
      "\n",
      "One of the best Crichton novels\n",
      "\n",
      "</title>\n",
      "\n",
      "<date>\n",
      "\n",
      "July 1, 2006\n",
      "\n",
      "</date>\n",
      "\n",
      "<reviewer>\n",
      "\n",
      "Joseph M\n",
      "\n",
      "</reviewer>\n",
      "\n",
      "<reviewer_location>\n",
      "\n",
      "Colorado, USA\n",
      "\n"
     ]
    }
   ],
   "source": [
    "readMe = open('data/books/positive.review','r').readlines() #read = r\r\n",
    "for i in range(30):\r\n",
    "    print(readMe[i])"
   ]
  },
  {
   "cell_type": "code",
   "execution_count": 3,
   "metadata": {},
   "outputs": [
    {
     "name": "stdout",
     "output_type": "stream",
     "text": [
      "negative books\n",
      "positive books\n",
      "negative dvd\n",
      "positive dvd\n",
      "unlabeled dvd\n",
      "negative electronics\n",
      "positive electronics\n",
      "unlabeled electronics\n",
      "negative kitchen_&_housewares\n",
      "positive kitchen_&_housewares\n",
      "unlabeled kitchen_&_housewares\n"
     ]
    },
    {
     "data": {
      "text/plain": "72679"
     },
     "execution_count": 3,
     "metadata": {},
     "output_type": "execute_result"
    }
   ],
   "source": [
    "categories = ['books', 'dvd', 'electronics', 'kitchen_&_housewares']\r\n",
    "\r\n",
    "rows = []\r\n",
    "\r\n",
    "for category in categories:\r\n",
    "    for tag in ['negative', 'positive', 'unlabeled']:\r\n",
    "        if (category != 'books') or (tag != 'unlabeled'):\r\n",
    "            print(tag, category)\r\n",
    "            with open('data/' + category + '/' + tag + '.review','r') as f:\r\n",
    "                xml = f.read()\r\n",
    "\r\n",
    "            xml = xml.replace('&amp;', ' ')\r\n",
    "            xml = xml.replace('&quot;', ' ')\r\n",
    "            xml = xml.replace('&', ' ') \r\n",
    "            xml = xml.replace('\u001a', ' ') \r\n",
    "            xml = xml.replace('\"</span></a>', ' ') \r\n",
    "            xml = xml.replace('<P>', ' ') \r\n",
    "            tree = ET.fromstring('<root>' + xml + '</root>')\r\n",
    "\r\n",
    "            for node in tree: \r\n",
    "                s_unique_id = node.find(\"unique_id\").text.strip() if node is not None else None\r\n",
    "                s_asin = node.find(\"asin\").text.strip() if node is not None else None\r\n",
    "                s_product_name = node.find(\"product_name\").text.strip() if node is not None else None\r\n",
    "                s_product_type = node.find(\"product_type\").text.strip() if node is not None else None\r\n",
    "                s_rating = node.find(\"rating\").text.strip() if node is not None else None\r\n",
    "                s_title = node.find(\"title\").text.strip() if node is not None else None\r\n",
    "                s_date = node.find(\"date\").text.strip() if node is not None else None\r\n",
    "                s_reviewer = node.find(\"reviewer\").text.strip() if node is not None else None\r\n",
    "                s_reviewer_location = node.find(\"reviewer_location\").text.strip() if node is not None else None\r\n",
    "                s_review_text = node.find(\"review_text\").text.strip() if node is not None else None\r\n",
    "                \r\n",
    "                rows.append({\r\n",
    "                    \"unique_id\": s_unique_id,\r\n",
    "                    \"asin\": s_asin,\r\n",
    "                    \"product_name\": s_product_name,\r\n",
    "                    \"product_type\": s_product_type,\r\n",
    "                    \"rating\": s_rating,\r\n",
    "                    \"title\": s_title,\r\n",
    "                    \"date\": s_date,\r\n",
    "                    \"reviewer\": s_reviewer,\r\n",
    "                    \"reviewer_location\": s_reviewer_location,\r\n",
    "                    \"review_text\": s_review_text,\r\n",
    "                    \"sentiment\": tag\r\n",
    "                    })\r\n",
    "\r\n",
    "len(rows)"
   ]
  },
  {
   "cell_type": "code",
   "execution_count": 4,
   "metadata": {},
   "outputs": [],
   "source": [
    "df = pd.DataFrame(rows)"
   ]
  },
  {
   "cell_type": "code",
   "execution_count": 5,
   "metadata": {},
   "outputs": [
    {
     "data": {
      "text/html": "<div>\n<style scoped>\n    .dataframe tbody tr th:only-of-type {\n        vertical-align: middle;\n    }\n\n    .dataframe tbody tr th {\n        vertical-align: top;\n    }\n\n    .dataframe thead th {\n        text-align: right;\n    }\n</style>\n<table border=\"1\" class=\"dataframe\">\n  <thead>\n    <tr style=\"text-align: right;\">\n      <th></th>\n      <th>unique_id</th>\n      <th>asin</th>\n      <th>product_name</th>\n      <th>product_type</th>\n      <th>rating</th>\n      <th>title</th>\n      <th>date</th>\n      <th>reviewer</th>\n      <th>reviewer_location</th>\n      <th>review_text</th>\n      <th>sentiment</th>\n    </tr>\n  </thead>\n  <tbody>\n    <tr>\n      <th>0</th>\n      <td>0312355645:horrible_book,_horrible.:mark_gospri</td>\n      <td>0312355645</td>\n      <td>Running with Scissors: A Memoir: Books: August...</td>\n      <td>books</td>\n      <td>1.0</td>\n      <td>Horrible book, horrible.</td>\n      <td>November 14, 2006</td>\n      <td>Mark Gospri</td>\n      <td></td>\n      <td>THis book was horrible.  If it was possible to...</td>\n      <td>negative</td>\n    </tr>\n    <tr>\n      <th>1</th>\n      <td>1559278676:shallow_self-indulgence:joseph_s._p...</td>\n      <td>1559278676</td>\n      <td>Running with Scissors: A Memoir: Books: August...</td>\n      <td>books</td>\n      <td>1.0</td>\n      <td>shallow self-indulgence</td>\n      <td>November 15, 2006</td>\n      <td>Joseph S. Perrott \"avid reader\"</td>\n      <td>philadelphia, pa. United States</td>\n      <td>I like to use the Amazon reviews when purchasi...</td>\n      <td>negative</td>\n    </tr>\n    <tr>\n      <th>2</th>\n      <td>1559278676:horrible_book,_horrible.:mark_gospri</td>\n      <td>1559278676</td>\n      <td>Running with Scissors: A Memoir: Books: August...</td>\n      <td>books</td>\n      <td>1.0</td>\n      <td>Horrible book, horrible.</td>\n      <td>November 14, 2006</td>\n      <td>Mark Gospri</td>\n      <td></td>\n      <td>THis book was horrible.  If it was possible to...</td>\n      <td>negative</td>\n    </tr>\n    <tr>\n      <th>3</th>\n      <td>0425193373:disappointment:reader_\"reader\"</td>\n      <td>0425193373</td>\n      <td>Fierce Conversations: Achieving Sucess at Work...</td>\n      <td>books</td>\n      <td>1.0</td>\n      <td>Disappointment</td>\n      <td>March 13, 2006</td>\n      <td>Reader \"Reader\"</td>\n      <td></td>\n      <td>I'm not sure who's writing these reviews, but ...</td>\n      <td>negative</td>\n    </tr>\n    <tr>\n      <th>4</th>\n      <td>0142004030:a_disappointing_mess:a._ross</td>\n      <td>0142004030</td>\n      <td>Lost in a Good Book (Thursday Next Novels): Bo...</td>\n      <td>books</td>\n      <td>2.0</td>\n      <td>A Disappointing Mess</td>\n      <td>May 17, 2006</td>\n      <td>A. Ross</td>\n      <td>Washington, DC</td>\n      <td>I picked up the first book in this series (The...</td>\n      <td>negative</td>\n    </tr>\n  </tbody>\n</table>\n</div>",
      "text/plain": "                                           unique_id        asin  \\\n0    0312355645:horrible_book,_horrible.:mark_gospri  0312355645   \n1  1559278676:shallow_self-indulgence:joseph_s._p...  1559278676   \n2    1559278676:horrible_book,_horrible.:mark_gospri  1559278676   \n3          0425193373:disappointment:reader_\"reader\"  0425193373   \n4            0142004030:a_disappointing_mess:a._ross  0142004030   \n\n                                        product_name product_type rating  \\\n0  Running with Scissors: A Memoir: Books: August...        books    1.0   \n1  Running with Scissors: A Memoir: Books: August...        books    1.0   \n2  Running with Scissors: A Memoir: Books: August...        books    1.0   \n3  Fierce Conversations: Achieving Sucess at Work...        books    1.0   \n4  Lost in a Good Book (Thursday Next Novels): Bo...        books    2.0   \n\n                      title               date  \\\n0  Horrible book, horrible.  November 14, 2006   \n1   shallow self-indulgence  November 15, 2006   \n2  Horrible book, horrible.  November 14, 2006   \n3            Disappointment     March 13, 2006   \n4      A Disappointing Mess       May 17, 2006   \n\n                          reviewer                reviewer_location  \\\n0                      Mark Gospri                                    \n1  Joseph S. Perrott \"avid reader\"  philadelphia, pa. United States   \n2                      Mark Gospri                                    \n3                  Reader \"Reader\"                                    \n4                          A. Ross                   Washington, DC   \n\n                                         review_text sentiment  \n0  THis book was horrible.  If it was possible to...  negative  \n1  I like to use the Amazon reviews when purchasi...  negative  \n2  THis book was horrible.  If it was possible to...  negative  \n3  I'm not sure who's writing these reviews, but ...  negative  \n4  I picked up the first book in this series (The...  negative  "
     },
     "execution_count": 5,
     "metadata": {},
     "output_type": "execute_result"
    }
   ],
   "source": [
    "df.head()"
   ]
  },
  {
   "cell_type": "code",
   "execution_count": 6,
   "metadata": {},
   "outputs": [
    {
     "data": {
      "text/plain": "(72679, 11)"
     },
     "execution_count": 6,
     "metadata": {},
     "output_type": "execute_result"
    }
   ],
   "source": [
    "df.shape"
   ]
  },
  {
   "cell_type": "code",
   "execution_count": null,
   "metadata": {},
   "outputs": [],
   "source": []
  }
 ],
 "metadata": {
  "kernelspec": {
   "display_name": "Python 3.8.8 64-bit ('base': conda)",
   "name": "python388jvsc74a57bd040beb175d8c858d1ff08315a1afe95f7a8d85aa391c5cea88297e971ddbb14a1"
  },
  "language_info": {
   "codemirror_mode": {
    "name": "ipython",
    "version": 3
   },
   "file_extension": ".py",
   "mimetype": "text/x-python",
   "name": "python",
   "nbconvert_exporter": "python",
   "pygments_lexer": "ipython3",
   "version": "3.8.8"
  },
  "orig_nbformat": 2
 },
 "nbformat": 4,
 "nbformat_minor": 2
}