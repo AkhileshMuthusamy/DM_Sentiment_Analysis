{
 "cells": [
  {
   "cell_type": "markdown",
   "metadata": {},
   "source": []
  },
  {
   "cell_type": "code",
   "execution_count": 1,
   "metadata": {},
   "outputs": [],
   "source": [
    "import pandas as pd\r\n",
    "import numpy as np\r\n",
    "import seaborn as sns\r\n",
    "import sklearn\r\n",
    "import os\r\n",
    "import xml.etree.ElementTree as ET\r\n",
    "%matplotlib inline"
   ]
  },
  {
   "cell_type": "code",
   "execution_count": 2,
   "metadata": {},
   "outputs": [
    {
     "name": "stdout",
     "output_type": "stream",
     "text": [
      "<review>\n",
      "\n",
      "<unique_id>\n",
      "\n",
      "0785758968:one_of_the_best_crichton_novels:joseph_m\n",
      "\n",
      "</unique_id>\n",
      "\n",
      "<asin>\n",
      "\n",
      "0785758968\n",
      "\n",
      "</asin>\n",
      "\n",
      "<product_name>\n",
      "\n",
      "Sphere: Books: Michael Crichton\n",
      "\n",
      "</product_name>\n",
      "\n",
      "<product_type>\n",
      "\n",
      "books\n",
      "\n",
      "</product_type>\n",
      "\n",
      "<helpful>\n",
      "\n",
      "0 of 1\n",
      "\n",
      "</helpful>\n",
      "\n",
      "<rating>\n",
      "\n",
      "5.0\n",
      "\n",
      "</rating>\n",
      "\n",
      "<title>\n",
      "\n",
      "One of the best Crichton novels\n",
      "\n",
      "</title>\n",
      "\n",
      "<date>\n",
      "\n",
      "July 1, 2006\n",
      "\n",
      "</date>\n",
      "\n",
      "<reviewer>\n",
      "\n",
      "Joseph M\n",
      "\n",
      "</reviewer>\n",
      "\n",
      "<reviewer_location>\n",
      "\n",
      "Colorado, USA\n",
      "\n"
     ]
    }
   ],
   "source": [
    "readMe = open('data/books/positive.review','r').readlines() #read = r\r\n",
    "for i in range(30):\r\n",
    "    print(readMe[i])"
   ]
  },
  {
   "cell_type": "code",
   "execution_count": 3,
   "metadata": {},
   "outputs": [
    {
     "name": "stdout",
     "output_type": "stream",
     "text": [
      "negative books\n",
      "positive books\n",
      "negative dvd\n",
      "positive dvd\n",
      "unlabeled dvd\n",
      "negative electronics\n",
      "positive electronics\n",
      "unlabeled electronics\n",
      "negative kitchen_&_housewares\n",
      "positive kitchen_&_housewares\n",
      "unlabeled kitchen_&_housewares\n"
     ]
    },
    {
     "data": {
      "text/plain": "72679"
     },
     "execution_count": 3,
     "metadata": {},
     "output_type": "execute_result"
    }
   ],
   "source": [
    "categories = ['books', 'dvd', 'electronics', 'kitchen_&_housewares']\r\n",
    "\r\n",
    "rows = []\r\n",
    "\r\n",
    "for category in categories:\r\n",
    "    for tag in ['negative', 'positive', 'unlabeled']:\r\n",
    "        if (category != 'books') or (tag != 'unlabeled'):\r\n",
    "            print(tag, category)\r\n",
    "            with open('data/' + category + '/' + tag + '.review','r') as f:\r\n",
    "                xml = f.read()\r\n",
    "\r\n",
    "            xml = xml.replace('&amp;', ' ')\r\n",
    "            xml = xml.replace('&quot;', ' ')\r\n",
    "            xml = xml.replace('&', ' ') \r\n",
    "            xml = xml.replace('\u001a', ' ') \r\n",
    "            xml = xml.replace('\"</span></a>', ' ') \r\n",
    "            xml = xml.replace('<P>', ' ') \r\n",
    "            tree = ET.fromstring('<root>' + xml + '</root>')\r\n",
    "\r\n",
    "            for node in tree: \r\n",
    "                s_unique_id = node.find(\"unique_id\").text.strip() if node is not None else None\r\n",
    "                s_asin = node.find(\"asin\").text.strip() if node is not None else None\r\n",
    "                s_product_name = node.find(\"product_name\").text.strip() if node is not None else None\r\n",
    "                s_product_type = node.find(\"product_type\").text.strip() if node is not None else None\r\n",
    "                s_rating = node.find(\"rating\").text.strip() if node is not None else None\r\n",
    "                s_title = node.find(\"title\").text.strip() if node is not None else None\r\n",
    "                s_date = node.find(\"date\").text.strip() if node is not None else None\r\n",
    "                s_reviewer = node.find(\"reviewer\").text.strip() if node is not None else None\r\n",
    "                s_reviewer_location = node.find(\"reviewer_location\").text.strip() if node is not None else None\r\n",
    "                s_review_text = node.find(\"review_text\").text.strip() if node is not None else None\r\n",
    "                \r\n",
    "                rows.append({\r\n",
    "                    \"unique_id\": s_unique_id,\r\n",
    "                    \"asin\": s_asin,\r\n",
    "                    \"product_name\": s_product_name,\r\n",
    "                    \"product_type\": s_product_type,\r\n",
    "                    \"rating\": s_rating,\r\n",
    "                    \"title\": s_title,\r\n",
    "                    \"date\": s_date,\r\n",
    "                    \"reviewer\": s_reviewer,\r\n",
    "                    \"reviewer_location\": s_reviewer_location,\r\n",
    "                    \"review_text\": s_review_text,\r\n",
    "                    \"sentiment\": tag\r\n",
    "                    })\r\n",
    "\r\n",
    "len(rows)"
   ]
  },
  {
   "cell_type": "code",
   "execution_count": 4,
   "metadata": {},
   "outputs": [],
   "source": [
    "df = pd.DataFrame(rows)"
   ]
  },
  {
   "cell_type": "code",
   "execution_count": 5,
   "metadata": {},
   "outputs": [
    {
     "data": {
      "text/html": "<div>\n<style scoped>\n    .dataframe tbody tr th:only-of-type {\n        vertical-align: middle;\n    }\n\n    .dataframe tbody tr th {\n        vertical-align: top;\n    }\n\n    .dataframe thead th {\n        text-align: right;\n    }\n</style>\n<table border=\"1\" class=\"dataframe\">\n  <thead>\n    <tr style=\"text-align: right;\">\n      <th></th>\n      <th>unique_id</th>\n      <th>asin</th>\n      <th>product_name</th>\n      <th>product_type</th>\n      <th>rating</th>\n      <th>title</th>\n      <th>date</th>\n      <th>reviewer</th>\n      <th>reviewer_location</th>\n      <th>review_text</th>\n      <th>sentiment</th>\n    </tr>\n  </thead>\n  <tbody>\n    <tr>\n      <th>0</th>\n      <td>0312355645:horrible_book,_horrible.:mark_gospri</td>\n      <td>0312355645</td>\n      <td>Running with Scissors: A Memoir: Books: August...</td>\n      <td>books</td>\n      <td>1.0</td>\n      <td>Horrible book, horrible.</td>\n      <td>November 14, 2006</td>\n      <td>Mark Gospri</td>\n      <td></td>\n      <td>THis book was horrible.  If it was possible to...</td>\n      <td>negative</td>\n    </tr>\n    <tr>\n      <th>1</th>\n      <td>1559278676:shallow_self-indulgence:joseph_s._p...</td>\n      <td>1559278676</td>\n      <td>Running with Scissors: A Memoir: Books: August...</td>\n      <td>books</td>\n      <td>1.0</td>\n      <td>shallow self-indulgence</td>\n      <td>November 15, 2006</td>\n      <td>Joseph S. Perrott \"avid reader\"</td>\n      <td>philadelphia, pa. United States</td>\n      <td>I like to use the Amazon reviews when purchasi...</td>\n      <td>negative</td>\n    </tr>\n    <tr>\n      <th>2</th>\n      <td>1559278676:horrible_book,_horrible.:mark_gospri</td>\n      <td>1559278676</td>\n      <td>Running with Scissors: A Memoir: Books: August...</td>\n      <td>books</td>\n      <td>1.0</td>\n      <td>Horrible book, horrible.</td>\n      <td>November 14, 2006</td>\n      <td>Mark Gospri</td>\n      <td></td>\n      <td>THis book was horrible.  If it was possible to...</td>\n      <td>negative</td>\n    </tr>\n    <tr>\n      <th>3</th>\n      <td>0425193373:disappointment:reader_\"reader\"</td>\n      <td>0425193373</td>\n      <td>Fierce Conversations: Achieving Sucess at Work...</td>\n      <td>books</td>\n      <td>1.0</td>\n      <td>Disappointment</td>\n      <td>March 13, 2006</td>\n      <td>Reader \"Reader\"</td>\n      <td></td>\n      <td>I'm not sure who's writing these reviews, but ...</td>\n      <td>negative</td>\n    </tr>\n    <tr>\n      <th>4</th>\n      <td>0142004030:a_disappointing_mess:a._ross</td>\n      <td>0142004030</td>\n      <td>Lost in a Good Book (Thursday Next Novels): Bo...</td>\n      <td>books</td>\n      <td>2.0</td>\n      <td>A Disappointing Mess</td>\n      <td>May 17, 2006</td>\n      <td>A. Ross</td>\n      <td>Washington, DC</td>\n      <td>I picked up the first book in this series (The...</td>\n      <td>negative</td>\n    </tr>\n  </tbody>\n</table>\n</div>",
      "text/plain": "                                           unique_id        asin  \\\n0    0312355645:horrible_book,_horrible.:mark_gospri  0312355645   \n1  1559278676:shallow_self-indulgence:joseph_s._p...  1559278676   \n2    1559278676:horrible_book,_horrible.:mark_gospri  1559278676   \n3          0425193373:disappointment:reader_\"reader\"  0425193373   \n4            0142004030:a_disappointing_mess:a._ross  0142004030   \n\n                                        product_name product_type rating  \\\n0  Running with Scissors: A Memoir: Books: August...        books    1.0   \n1  Running with Scissors: A Memoir: Books: August...        books    1.0   \n2  Running with Scissors: A Memoir: Books: August...        books    1.0   \n3  Fierce Conversations: Achieving Sucess at Work...        books    1.0   \n4  Lost in a Good Book (Thursday Next Novels): Bo...        books    2.0   \n\n                      title               date  \\\n0  Horrible book, horrible.  November 14, 2006   \n1   shallow self-indulgence  November 15, 2006   \n2  Horrible book, horrible.  November 14, 2006   \n3            Disappointment     March 13, 2006   \n4      A Disappointing Mess       May 17, 2006   \n\n                          reviewer                reviewer_location  \\\n0                      Mark Gospri                                    \n1  Joseph S. Perrott \"avid reader\"  philadelphia, pa. United States   \n2                      Mark Gospri                                    \n3                  Reader \"Reader\"                                    \n4                          A. Ross                   Washington, DC   \n\n                                         review_text sentiment  \n0  THis book was horrible.  If it was possible to...  negative  \n1  I like to use the Amazon reviews when purchasi...  negative  \n2  THis book was horrible.  If it was possible to...  negative  \n3  I'm not sure who's writing these reviews, but ...  negative  \n4  I picked up the first book in this series (The...  negative  "
     },
     "execution_count": 5,
     "metadata": {},
     "output_type": "execute_result"
    }
   ],
   "source": [
    "df.head()"
   ]
  },
  {
   "cell_type": "code",
   "execution_count": 6,
   "metadata": {},
   "outputs": [
    {
     "data": {
      "text/plain": "(72679, 11)"
     },
     "execution_count": 6,
     "metadata": {},
     "output_type": "execute_result"
    }
   ],
   "source": [
    "df.shape"
   ]
  },
  {
   "cell_type": "code",
   "execution_count": 7,
   "metadata": {},
   "outputs": [],
   "source": [
    "df.to_csv('amazon_reviews.csv')"
   ]
  },
  {
   "cell_type": "code",
   "execution_count": 8,
   "metadata": {},
   "outputs": [
    {
     "data": {
      "text/plain": "unique_id            0\nasin                 0\nproduct_name         0\nproduct_type         0\nrating               0\ntitle                0\ndate                 0\nreviewer             0\nreviewer_location    0\nreview_text          0\nsentiment            0\ndtype: int64"
     },
     "execution_count": 8,
     "metadata": {},
     "output_type": "execute_result"
    }
   ],
   "source": [
    "df.isna().sum()"
   ]
  },
  {
   "cell_type": "code",
   "execution_count": 19,
   "metadata": {},
   "outputs": [],
   "source": [
    "df['rating'] = df['rating'].astype(np.float16)"
   ]
  },
  {
   "cell_type": "code",
   "execution_count": 20,
   "metadata": {},
   "outputs": [
    {
     "name": "stdout",
     "output_type": "stream",
     "text": [
      "<class 'pandas.core.frame.DataFrame'>\n",
      "RangeIndex: 72679 entries, 0 to 72678\n",
      "Data columns (total 11 columns):\n",
      " #   Column             Non-Null Count  Dtype  \n",
      "---  ------             --------------  -----  \n",
      " 0   unique_id          72679 non-null  object \n",
      " 1   asin               72679 non-null  object \n",
      " 2   product_name       72679 non-null  object \n",
      " 3   product_type       72679 non-null  object \n",
      " 4   rating             72679 non-null  float16\n",
      " 5   title              72679 non-null  object \n",
      " 6   date               72679 non-null  object \n",
      " 7   reviewer           72679 non-null  object \n",
      " 8   reviewer_location  72679 non-null  object \n",
      " 9   review_text        72679 non-null  object \n",
      " 10  sentiment          72679 non-null  object \n",
      "dtypes: float16(1), object(10)\n",
      "memory usage: 5.7+ MB\n"
     ]
    }
   ],
   "source": [
    "df.info()"
   ]
  },
  {
   "cell_type": "code",
   "execution_count": 15,
   "metadata": {},
   "outputs": [
    {
     "data": {
      "text/plain": "13520"
     },
     "execution_count": 15,
     "metadata": {},
     "output_type": "execute_result"
    }
   ],
   "source": [
    "len(df['asin'].value_counts())"
   ]
  },
  {
   "cell_type": "code",
   "execution_count": 17,
   "metadata": {},
   "outputs": [
    {
     "data": {
      "text/plain": "B000ICL3KG    19\nB000H7I6CU    17\nB000H5U832    16\nB000I2J2WC    14\nB000EXDS7K    14\n              ..\nB000E3LOZS     1\nB000A1FFR2     1\n0679752609     1\n0842332286     1\n0553381059     1\nName: asin, Length: 13520, dtype: int64"
     },
     "execution_count": 17,
     "metadata": {},
     "output_type": "execute_result"
    }
   ],
   "source": [
    "df['asin'].value_counts()"
   ]
  },
  {
   "cell_type": "code",
   "execution_count": 32,
   "metadata": {},
   "outputs": [],
   "source": [
    "import re\r\n",
    "import nltk\r\n",
    "from nltk.corpus import stopwords\r\n",
    "from nltk.stem import PorterStemmer\r\n",
    "\r\n",
    "en_stopwords = set(stopwords.words('english')) \r\n",
    "\r\n",
    "def clean_content(message: str):\r\n",
    "\r\n",
    "    # Converting content to lowercase\r\n",
    "    message = message.lower()\r\n",
    "    # Replace URL with empty string\r\n",
    "    message = re.sub(r'(?:https?:\\/\\/)?([a-zA-Z][a-zA-Z0-9._\\-]+.[a-zA-Z0-9]+(\\.[a-zA-Z0-9._\\-]{2,3})+)', '', message)\r\n",
    "    # Remove characters apart from alphabets\r\n",
    "    message = re.sub('([^A-Za-z ])+', ' ', message)\r\n",
    "    message = message.replace('\\n', ' ')\r\n",
    "    # Remove words less than 3 characters\r\n",
    "    message = re.sub(r'(\\b.{1,2}\\s)+', ' ', message)\r\n",
    "    # Remove mulitiple whitespace\r\n",
    "    message = re.sub(r' +', ' ', message)\r\n",
    "\r\n",
    "    # Removing stopwords & perform stemming\r\n",
    "    porter = PorterStemmer()\r\n",
    "\r\n",
    "    clean_str = []\r\n",
    "    word_tokens = nltk.word_tokenize(message)\r\n",
    "    for word in word_tokens: \r\n",
    "        if word not in en_stopwords:\r\n",
    "            clean_str.append(porter.stem(word))\r\n",
    "    \r\n",
    "    message = ' '.join(clean_str)\r\n",
    "    \r\n",
    "    \r\n",
    "    return message"
   ]
  },
  {
   "cell_type": "code",
   "execution_count": 24,
   "metadata": {},
   "outputs": [
    {
     "data": {
      "text/plain": "'true stori finnish soldier action take place taipal men defend finland mannerheim line finnish soldier soviet union soldier die war last number day fact winter war sell movi full lenght dvd number number min number number surround finnish subtitl suomi english swedish pal also extra'"
     },
     "execution_count": 24,
     "metadata": {},
     "output_type": "execute_result"
    }
   ],
   "source": [
    "tst = \"\"\"This is true story of Finnish soldiers. Actions take place in Taipale. They are men who defend Finland in Mannerheim line.\r\n",
    "25000 Finnish soldiers and 300000 Soviet Union soldiers died in that war. It last's only 105 days. It was 1939-1940.\r\n",
    "\r\n",
    "Facts about winter war:http://www.winterwar.com/mainpage.htm\r\n",
    "\r\n",
    "They now sell this movie in full lenght DVD, with * 3 h 11 min * WS 14/9 * DD Surround in Finnish * Subtitles: SUOMI, English, Swedish. * R0 PAL, and there is also some extras.\r\n",
    "\r\n",
    "http://www.filmifriikki.fi\r\n",
    "\"\"\"\r\n",
    "clean_content(tst)"
   ]
  },
  {
   "cell_type": "code",
   "execution_count": 25,
   "metadata": {},
   "outputs": [],
   "source": [
    "df[\"all_meta\"] = df['review_text'].astype(\"str\") + ' ' + df['title'].astype(\"str\")"
   ]
  },
  {
   "cell_type": "code",
   "execution_count": 34,
   "metadata": {},
   "outputs": [
    {
     "data": {
      "text/plain": "'book horribl possibl rate lower one star would avid reader pick book mom gotten friend read half suffer headach entir time got part relationship year old boy year old man lit book fire one less copi wast money wish time spent read book back could use better purpos book wast life horribl book horribl'"
     },
     "execution_count": 34,
     "metadata": {},
     "output_type": "execute_result"
    }
   ],
   "source": [
    "df.head()['all_meta'][0]"
   ]
  },
  {
   "cell_type": "code",
   "execution_count": 33,
   "metadata": {},
   "outputs": [],
   "source": [
    "df['all_meta'] = df['all_meta'].apply(clean_content)"
   ]
  },
  {
   "cell_type": "code",
   "execution_count": 40,
   "metadata": {},
   "outputs": [],
   "source": [
    "def sentiments(rating):\r\n",
    "    if (rating == 5) or (rating == 4):\r\n",
    "        return \"positive\"\r\n",
    "    elif (rating == 3) or (rating == 2) or (rating == 1):\r\n",
    "        return \"negative\""
   ]
  },
  {
   "cell_type": "code",
   "execution_count": 41,
   "metadata": {},
   "outputs": [],
   "source": [
    "for index, row in df.iterrows():\r\n",
    "    if row['sentiment'] == 'unlabeled':\r\n",
    "        df.loc[index , 'sentiment'] = sentiments(row['rating'])"
   ]
  },
  {
   "cell_type": "code",
   "execution_count": 42,
   "metadata": {},
   "outputs": [
    {
     "data": {
      "text/html": "<div>\n<style scoped>\n    .dataframe tbody tr th:only-of-type {\n        vertical-align: middle;\n    }\n\n    .dataframe tbody tr th {\n        vertical-align: top;\n    }\n\n    .dataframe thead th {\n        text-align: right;\n    }\n</style>\n<table border=\"1\" class=\"dataframe\">\n  <thead>\n    <tr style=\"text-align: right;\">\n      <th></th>\n      <th>unique_id</th>\n      <th>asin</th>\n      <th>product_name</th>\n      <th>product_type</th>\n      <th>rating</th>\n      <th>title</th>\n      <th>date</th>\n      <th>reviewer</th>\n      <th>reviewer_location</th>\n      <th>review_text</th>\n      <th>sentiment</th>\n      <th>all_meta</th>\n    </tr>\n  </thead>\n  <tbody>\n  </tbody>\n</table>\n</div>",
      "text/plain": "Empty DataFrame\nColumns: [unique_id, asin, product_name, product_type, rating, title, date, reviewer, reviewer_location, review_text, sentiment, all_meta]\nIndex: []"
     },
     "execution_count": 42,
     "metadata": {},
     "output_type": "execute_result"
    }
   ],
   "source": [
    "df[df['sentiment'] == 'unlabeled']"
   ]
  },
  {
   "cell_type": "code",
   "execution_count": 48,
   "metadata": {},
   "outputs": [],
   "source": [
    "from sklearn.model_selection import train_test_split\r\n",
    "\r\n",
    "X = df[['all_meta']].copy()\r\n",
    "y = df['sentiment'].copy()\r\n",
    "\r\n",
    "X_train, X_test, y_train, y_test = train_test_split(X, y, test_size=0.3, random_state=24)\r\n",
    "X_train = X_train.copy()\r\n",
    "X_test = X_test.copy()"
   ]
  },
  {
   "cell_type": "code",
   "execution_count": 49,
   "metadata": {},
   "outputs": [],
   "source": [
    "from sklearn.feature_extraction.text import CountVectorizer\r\n",
    "vectorizer = CountVectorizer()\r\n",
    "X_train_vec = vectorizer.fit_transform(X_train['all_meta'])\r\n",
    "X_test_vec = vectorizer.transform(X_test['all_meta'])"
   ]
  },
  {
   "cell_type": "code",
   "execution_count": 50,
   "metadata": {},
   "outputs": [
    {
     "name": "stdout",
     "output_type": "stream",
     "text": [
      "Naive Bayes Accuracy Score ->  85.30544854155201\n"
     ]
    }
   ],
   "source": [
    "from sklearn.naive_bayes import MultinomialNB\r\n",
    "nb_cv = MultinomialNB().fit(X_train_vec, y_train)\r\n",
    "\r\n",
    "# predict the labels on validation dataset\r\n",
    "predictions_NB_cv = nb_cv.predict(X_test_vec)\r\n",
    "# Use accuracy_score function to get the accuracy\r\n",
    "from sklearn.metrics import accuracy_score\r\n",
    "print(\"Naive Bayes Accuracy Score -> \",accuracy_score(predictions_NB_cv, y_test)*100)"
   ]
  },
  {
   "cell_type": "code",
   "execution_count": 51,
   "metadata": {},
   "outputs": [
    {
     "name": "stdout",
     "output_type": "stream",
     "text": [
      "Random Forest Accuracy Score ->  87.77288570904422\n"
     ]
    }
   ],
   "source": [
    "from sklearn.ensemble import RandomForestClassifier\r\n",
    "\r\n",
    "rf = RandomForestClassifier(random_state=42)\r\n",
    "rf.fit(X_train_vec,y_train)\r\n",
    "print(\"Random Forest Accuracy Score -> \", rf.score(X_test_vec, y_test)*100)"
   ]
  }
 ],
 "metadata": {
  "kernelspec": {
   "display_name": "Python 3.8.8 64-bit ('base': conda)",
   "name": "python388jvsc74a57bd040beb175d8c858d1ff08315a1afe95f7a8d85aa391c5cea88297e971ddbb14a1"
  },
  "language_info": {
   "codemirror_mode": {
    "name": "ipython",
    "version": 3
   },
   "file_extension": ".py",
   "mimetype": "text/x-python",
   "name": "python",
   "nbconvert_exporter": "python",
   "pygments_lexer": "ipython3",
   "version": "3.8.8"
  },
  "orig_nbformat": 2
 },
 "nbformat": 4,
 "nbformat_minor": 2
}